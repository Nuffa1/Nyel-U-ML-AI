{
 "cells": [
  {
   "cell_type": "code",
   "execution_count": 2,
   "metadata": {},
   "outputs": [
    {
     "name": "stderr",
     "output_type": "stream",
     "text": [
      "/Users/64008733/Library/Python/3.9/lib/python/site-packages/urllib3/__init__.py:34: NotOpenSSLWarning: urllib3 v2 only supports OpenSSL 1.1.1+, currently the 'ssl' module is compiled with 'LibreSSL 2.8.3'. See: https://github.com/urllib3/urllib3/issues/3020\n",
      "  warnings.warn(\n"
     ]
    }
   ],
   "source": [
    "import requests\n",
    "import json "
   ]
  },
  {
   "cell_type": "code",
   "execution_count": 6,
   "metadata": {},
   "outputs": [
    {
     "name": "stdout",
     "output_type": "stream",
     "text": [
      "{'tossups': [{'_id': '63e44fc160c522c60cc7af46', 'question': 'While parodying this game, Rémi Gaillard is hit by a golf club and later kicked out of a store. Google celebrated the 30th anniversary of this game by creating a logo that allowed people to play a miniature version of it. Developed by Namco, fruits such as strawberries and cherries appear in the middle of the screen offering bonus points. Its developer stated that he was inspired by a pizza missing a slice when creating this game, and its enemies are named Clyde, Blinky, Pinky, and Inky. For 10 points, name this game in which four colorful ghosts chase a round yellow figure, whose goal is to travel through a maze collecting dots.', 'answer': '<i><b><u>Pac-Man</u></b></i>', 'category': 'Trash', 'subcategory': 'Trash', 'packet': {'_id': '63e44fc160c522c60cc7af44', 'name': '05', 'number': 5}, 'set': {'_id': '63e44fc060c522c60cc7ae97', 'name': '2011 GSAC', 'year': 2011, 'standard': True}, 'createdAt': '2023-02-09T01:43:29.025Z', 'updatedAt': '2023-04-09T06:00:05.574Z', 'difficulty': 3, 'number': 2, 'answer_sanitized': 'Pac-Man', 'question_sanitized': 'While parodying this game, Remi Gaillard is hit by a golf club and later kicked out of a store. Google celebrated the 30th anniversary of this game by creating a logo that allowed people to play a miniature version of it. Developed by Namco, fruits such as strawberries and cherries appear in the middle of the screen offering bonus points. Its developer stated that he was inspired by a pizza missing a slice when creating this game, and its enemies are named Clyde, Blinky, Pinky, and Inky. For 10 points, name this game in which four colorful ghosts chase a round yellow figure, whose goal is to travel through a maze collecting dots.'}]}\n"
     ]
    }
   ],
   "source": [
    "question = requests.get(\"https://qbreader.org/api/random-tossup\")\n",
    "print(question.json())"
   ]
  },
  {
   "cell_type": "code",
   "execution_count": null,
   "metadata": {},
   "outputs": [],
   "source": []
  }
 ],
 "metadata": {
  "kernelspec": {
   "display_name": "Python 3",
   "language": "python",
   "name": "python3"
  },
  "language_info": {
   "codemirror_mode": {
    "name": "ipython",
    "version": 3
   },
   "file_extension": ".py",
   "mimetype": "text/x-python",
   "name": "python",
   "nbconvert_exporter": "python",
   "pygments_lexer": "ipython3",
   "version": "3.9.6"
  }
 },
 "nbformat": 4,
 "nbformat_minor": 2
}

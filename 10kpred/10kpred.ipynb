{
 "cells": [
  {
   "cell_type": "code",
   "execution_count": 47,
   "metadata": {},
   "outputs": [],
   "source": [
    "import numpy as np\n",
    "import pandas as pd\n",
    "from tensorflow import keras\n",
    "from tensorflow.keras import layers"
   ]
  },
  {
   "cell_type": "code",
   "execution_count": 48,
   "metadata": {},
   "outputs": [
    {
     "data": {
      "text/html": [
       "<div>\n",
       "<style scoped>\n",
       "    .dataframe tbody tr th:only-of-type {\n",
       "        vertical-align: middle;\n",
       "    }\n",
       "\n",
       "    .dataframe tbody tr th {\n",
       "        vertical-align: top;\n",
       "    }\n",
       "\n",
       "    .dataframe thead th {\n",
       "        text-align: right;\n",
       "    }\n",
       "</style>\n",
       "<table border=\"1\" class=\"dataframe\">\n",
       "  <thead>\n",
       "    <tr style=\"text-align: right;\">\n",
       "      <th></th>\n",
       "      <th>team1</th>\n",
       "      <th>team2</th>\n",
       "      <th>team3</th>\n",
       "      <th>team4</th>\n",
       "      <th>team5</th>\n",
       "      <th>team6</th>\n",
       "      <th>winner</th>\n",
       "    </tr>\n",
       "  </thead>\n",
       "  <tbody>\n",
       "    <tr>\n",
       "      <th>0</th>\n",
       "      <td>2052</td>\n",
       "      <td>5172</td>\n",
       "      <td>3026</td>\n",
       "      <td>4607</td>\n",
       "      <td>3102</td>\n",
       "      <td>3184</td>\n",
       "      <td>blue</td>\n",
       "    </tr>\n",
       "    <tr>\n",
       "      <th>1</th>\n",
       "      <td>2052</td>\n",
       "      <td>5172</td>\n",
       "      <td>3026</td>\n",
       "      <td>4607</td>\n",
       "      <td>3102</td>\n",
       "      <td>3184</td>\n",
       "      <td>blue</td>\n",
       "    </tr>\n",
       "    <tr>\n",
       "      <th>2</th>\n",
       "      <td>2052</td>\n",
       "      <td>5172</td>\n",
       "      <td>3026</td>\n",
       "      <td>3007</td>\n",
       "      <td>4207</td>\n",
       "      <td>3244</td>\n",
       "      <td>blue</td>\n",
       "    </tr>\n",
       "    <tr>\n",
       "      <th>3</th>\n",
       "      <td>2052</td>\n",
       "      <td>5172</td>\n",
       "      <td>3026</td>\n",
       "      <td>3007</td>\n",
       "      <td>4207</td>\n",
       "      <td>3244</td>\n",
       "      <td>blue</td>\n",
       "    </tr>\n",
       "    <tr>\n",
       "      <th>4</th>\n",
       "      <td>4198</td>\n",
       "      <td>5913</td>\n",
       "      <td>3751</td>\n",
       "      <td>2823</td>\n",
       "      <td>2508</td>\n",
       "      <td>3630</td>\n",
       "      <td>blue</td>\n",
       "    </tr>\n",
       "  </tbody>\n",
       "</table>\n",
       "</div>"
      ],
      "text/plain": [
       "   team1  team2  team3  team4  team5  team6 winner\n",
       "0   2052   5172   3026   4607   3102   3184   blue\n",
       "1   2052   5172   3026   4607   3102   3184   blue\n",
       "2   2052   5172   3026   3007   4207   3244   blue\n",
       "3   2052   5172   3026   3007   4207   3244   blue\n",
       "4   4198   5913   3751   2823   2508   3630   blue"
      ]
     },
     "execution_count": 48,
     "metadata": {},
     "output_type": "execute_result"
    }
   ],
   "source": [
    "data = pd.read_csv('newdata.csv')\n",
    "\n",
    "data.head()"
   ]
  },
  {
   "cell_type": "code",
   "execution_count": 49,
   "metadata": {},
   "outputs": [],
   "source": [
    "target = data.pop(\"winner\")"
   ]
  },
  {
   "cell_type": "code",
   "execution_count": null,
   "metadata": {},
   "outputs": [],
   "source": []
  },
  {
   "cell_type": "code",
   "execution_count": 52,
   "metadata": {},
   "outputs": [
    {
     "name": "stdout",
     "output_type": "stream",
     "text": [
      "     team1  team2  team3  team4  team5  team6\n",
      "0     2052   5172   3026   4607   3102   3184\n",
      "1     2052   5172   3026   4607   3102   3184\n",
      "2     2052   5172   3026   3007   4207   3244\n",
      "3     2052   5172   3026   3007   4207   3244\n",
      "4     4198   5913   3751   2823   2508   3630\n",
      "..     ...    ...    ...    ...    ...    ...\n",
      "106   3298   3407   2987   2879   3745   3630\n",
      "107   2052   5172   3026   2823   2508   3630\n",
      "108   2052   5172   3026   2823   2508   3630\n",
      "109   7028   2987   4536   4607   3102   3184\n",
      "110   7028   2987   4536   4607   3102   3184\n",
      "\n",
      "[111 rows x 6 columns]\n",
      "0      blue\n",
      "1      blue\n",
      "2      blue\n",
      "3      blue\n",
      "4      blue\n",
      "       ... \n",
      "106    blue\n",
      "107    blue\n",
      "108    blue\n",
      "109     red\n",
      "110     red\n",
      "Name: winner, Length: 111, dtype: object\n"
     ]
    }
   ],
   "source": [
    "print(data)\n",
    "print(target)"
   ]
  }
 ],
 "metadata": {
  "kernelspec": {
   "display_name": "Python 3",
   "language": "python",
   "name": "python3"
  },
  "language_info": {
   "codemirror_mode": {
    "name": "ipython",
    "version": 3
   },
   "file_extension": ".py",
   "mimetype": "text/x-python",
   "name": "python",
   "nbconvert_exporter": "python",
   "pygments_lexer": "ipython3",
   "version": "3.9.6"
  }
 },
 "nbformat": 4,
 "nbformat_minor": 2
}

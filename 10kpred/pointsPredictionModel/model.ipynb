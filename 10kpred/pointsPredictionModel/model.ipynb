{
 "cells": [
  {
   "cell_type": "code",
   "execution_count": 5,
   "metadata": {},
   "outputs": [],
   "source": [
    "import numpy as np\n",
    "import pandas as pd\n",
    "from sklearn.linear_model import LogisticRegression\n",
    "from sklearn.preprocessing import StandardScaler\n",
    "import sklearn"
   ]
  },
  {
   "cell_type": "code",
   "execution_count": 6,
   "metadata": {},
   "outputs": [],
   "source": [
    "data = pd.read_csv('dataWithPoints.csv')"
   ]
  },
  {
   "cell_type": "code",
   "execution_count": 7,
   "metadata": {},
   "outputs": [],
   "source": [
    "target1 = data.pop('redPoints')\n",
    "target2 = data.pop('bluePoints')"
   ]
  },
  {
   "cell_type": "code",
   "execution_count": 8,
   "metadata": {},
   "outputs": [
    {
     "data": {
      "text/plain": [
       "team1  team2  team3  team4  team5  team6\n",
       "7028   2987   4536   2509   5232   2500     3\n",
       "4198   5913   3751   2823   2508   3630     3\n",
       "2052   5172   3026   3007   4207   3244     2\n",
       "                     4607   3102   3184     2\n",
       "                     2823   2508   3630     2\n",
       "                                           ..\n",
       "2825   7038   5996   2987   2529   3102     1\n",
       "       4664   4198   2530   4207   3202     1\n",
       "       2513   3407   3055   5637   2470     1\n",
       "2823   2879   2846   5172   2530   3134     1\n",
       "7850   3871   4664   3026   2509   3038     1\n",
       "Name: count, Length: 103, dtype: int64"
      ]
     },
     "execution_count": 8,
     "metadata": {},
     "output_type": "execute_result"
    }
   ],
   "source": [
    "model = "
   ]
  }
 ],
 "metadata": {
  "kernelspec": {
   "display_name": "Python 3",
   "language": "python",
   "name": "python3"
  },
  "language_info": {
   "codemirror_mode": {
    "name": "ipython",
    "version": 3
   },
   "file_extension": ".py",
   "mimetype": "text/x-python",
   "name": "python",
   "nbconvert_exporter": "python",
   "pygments_lexer": "ipython3",
   "version": "3.9.6"
  }
 },
 "nbformat": 4,
 "nbformat_minor": 2
}

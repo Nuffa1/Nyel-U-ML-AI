{
 "cells": [
  {
   "cell_type": "code",
   "execution_count": 26,
   "metadata": {},
   "outputs": [],
   "source": [
    "import numpy as np\n",
    "from tensorflow import keras\n",
    "from tensorflow.keras.preprocessing.sequence import pad_sequences\n",
    "from tensorflow.keras.datasets import imdb\n"
   ]
  },
  {
   "cell_type": "code",
   "execution_count": 27,
   "metadata": {},
   "outputs": [],
   "source": [
    "review_len = 250\n",
    "(train_reviews, train_labels), (test_reviews, test_labels) = imdb.load_data(maxlen = review_len)\n",
    "(train_reviews_bak, train_labels_bak), (test_reviews_bak, test_labels_bak) = imdb.load_data(maxlen = review_len)"
   ]
  },
  {
   "cell_type": "code",
   "execution_count": 28,
   "metadata": {},
   "outputs": [],
   "source": [
    "train_reviews = pad_sequences(train_reviews, padding='post')\n",
    "test_reviews = pad_sequences(test_reviews, padding='post')\n",
    "train_labels = keras.utils.to_categorical(train_labels, 2)\n",
    "test_labels = keras.utils.to_categorical(test_labels, 2)\n"
   ]
  },
  {
   "cell_type": "code",
   "execution_count": 29,
   "metadata": {},
   "outputs": [
    {
     "name": "stdout",
     "output_type": "stream",
     "text": [
      "[    1    14    22    16    43   530   973  1622  1385    65   458  4468\n",
      "    66  3941     4   173    36   256     5    25   100    43   838   112\n",
      "    50   670 22665     9    35   480   284     5   150     4   172   112\n",
      "   167 21631   336   385    39     4   172  4536  1111    17   546    38\n",
      "    13   447     4   192    50    16     6   147  2025    19    14    22\n",
      "     4  1920  4613   469     4    22    71    87    12    16    43   530\n",
      "    38    76    15    13  1247     4    22    17   515    17    12    16\n",
      "   626    18 19193     5    62   386    12     8   316     8   106     5\n",
      "     4  2223  5244    16   480    66  3785    33     4   130    12    16\n",
      "    38   619     5    25   124    51    36   135    48    25  1415    33\n",
      "     6    22    12   215    28    77    52     5    14   407    16    82\n",
      " 10311     8     4   107   117  5952    15   256     4 31050     7  3766\n",
      "     5   723    36    71    43   530   476    26   400   317    46     7\n",
      "     4 12118  1029    13   104    88     4   381    15   297    98    32\n",
      "  2071    56    26   141     6   194  7486    18     4   226    22    21\n",
      "   134   476    26   480     5   144    30  5535    18    51    36    28\n",
      "   224    92    25   104     4   226    65    16    38  1334    88    12\n",
      "    16   283     5    16  4472   113   103    32    15    16  5345    19\n",
      "   178    32     0     0     0     0     0     0     0     0     0     0\n",
      "     0     0     0     0     0     0     0     0     0     0     0     0\n",
      "     0     0     0     0     0     0     0     0     0]\n",
      "[0. 1.]\n"
     ]
    }
   ],
   "source": [
    "index = 0\n",
    "print(train_reviews[index])\n",
    "print(train_labels[index])\n"
   ]
  },
  {
   "cell_type": "code",
   "execution_count": 30,
   "metadata": {},
   "outputs": [],
   "source": [
    "word_index = imdb.get_word_index()\n",
    "#inverted_word_index = dict((i, word) for (word, i) in word_index)"
   ]
  },
  {
   "cell_type": "code",
   "execution_count": 31,
   "metadata": {},
   "outputs": [
    {
     "data": {
      "text/plain": [
       "84"
      ]
     },
     "execution_count": 31,
     "metadata": {},
     "output_type": "execute_result"
    }
   ],
   "source": [
    "word_index['great']"
   ]
  },
  {
   "cell_type": "code",
   "execution_count": 32,
   "metadata": {},
   "outputs": [],
   "source": [
    "from tensorflow.keras.models import Sequential\n",
    "from tensorflow.keras.layers import Dense, Embedding, GlobalAveragePooling1D"
   ]
  },
  {
   "cell_type": "code",
   "execution_count": 33,
   "metadata": {},
   "outputs": [
    {
     "name": "stdout",
     "output_type": "stream",
     "text": [
      "Model: \"sequential\"\n",
      "_________________________________________________________________\n",
      " Layer (type)                Output Shape              Param #   \n",
      "=================================================================\n",
      " embedding (Embedding)       (None, 249, 16)           1417344   \n",
      "                                                                 \n",
      " global_average_pooling1d (G  (None, 16)               0         \n",
      " lobalAveragePooling1D)                                          \n",
      "                                                                 \n",
      " dense (Dense)               (None, 14)                238       \n",
      "                                                                 \n",
      " dense_1 (Dense)             (None, 12)                180       \n",
      "                                                                 \n",
      " dense_2 (Dense)             (None, 2)                 26        \n",
      "                                                                 \n",
      "=================================================================\n",
      "Total params: 1,417,788\n",
      "Trainable params: 1,417,788\n",
      "Non-trainable params: 0\n",
      "_________________________________________________________________\n"
     ]
    }
   ],
   "source": [
    "model = Sequential()\n",
    "vocab_size = len(word_index)\n",
    "embedding_dim = 16\n",
    "max_size = review_len -1\n",
    "model.add(Embedding(vocab_size, embedding_dim, input_length = max_size))\n",
    "model.add(GlobalAveragePooling1D())\n",
    "\n",
    "model.add(Dense(14, activation = 'sigmoid'))\n",
    "model.add(Dense(12, activation = 'relu'))\n",
    "model.add(Dense(2, activation = 'softmax'))\n",
    "\n",
    "model.compile(loss = 'binary_crossentropy', optimizer = 'adam', metrics = ['accuracy'])\n",
    "\n",
    "model.summary()"
   ]
  },
  {
   "cell_type": "code",
   "execution_count": 34,
   "metadata": {},
   "outputs": [
    {
     "name": "stdout",
     "output_type": "stream",
     "text": [
      "Epoch 1/10\n",
      "536/536 [==============================] - 48s 87ms/step - loss: 0.6803 - accuracy: 0.5857ETA: 27s - loss: 0.6930 - a - ETA: 26s - loss: 0.6928 - accuracy: 0 - ETA: 25s - loss: -  - ETA: 7s - loss: 0.6869 - accura - ETA: 6s - l -\n",
      "Epoch 2/10\n",
      "536/536 [==============================] - 48s 89ms/step - loss: 0.3994 - accuracy: 0.8516\n",
      "Epoch 3/10\n",
      "536/536 [==============================] - 47s 88ms/step - loss: 0.2302 - accuracy: 0.9105: 35s - loss: 0.2544 - ac - ETA: 35s - loss: 0.2497 - ac\n",
      "Epoch 4/10\n",
      "536/536 [==============================] - 47s 88ms/step - loss: 0.1735 - accuracy: 0.9354\n",
      "Epoch 5/10\n",
      "536/536 [==============================] - 48s 89ms/step - loss: 0.1343 - accuracy: 0.9530: 21s - loss: 0.1299 - accuracy: 0.95 - ETA: 21s - loss: 0.13 - ETA: 1s - l\n",
      "Epoch 6/10\n",
      "536/536 [==============================] - 49s 91ms/step - loss: 0.1029 - accuracy: 0.9662: 45s - loss: 0.1 - ETA: 37s - loss: 0.1 - ETA: 32s - loss: 0.1038 - - ETA:  - ETA:  - ETA: 15s - loss: 0.1054 - accuracy: 0.96 - ETA: 15s - loss: 0.1051 - accuracy: 0.9 - ETA: 15s - loss: 0.1053 - ac - ETA: 13s - loss: 0.1056 - accuracy:  - ETA: 13s - loss: 0.1053 - - ETA: 0s - loss: 0.1018 - \n",
      "Epoch 7/10\n",
      "536/536 [==============================] - 48s 89ms/step - loss: 0.0772 - accuracy: 0.9777: 31s - loss:  - ETA: 1s\n",
      "Epoch 8/10\n",
      "536/536 [==============================] - 47s 87ms/step - loss: 0.0584 - accuracy: 0.9839\n",
      "Epoch 9/10\n",
      "536/536 [==============================] - 47s 87ms/step - loss: 0.0423 - accuracy: 0.9895\n",
      "Epoch 10/10\n",
      "536/536 [==============================] - 47s 87ms/step - loss: 0.0317 - accuracy: 0.9929\n"
     ]
    },
    {
     "data": {
      "text/plain": [
       "<keras.callbacks.History at 0x1a2a194c2b0>"
      ]
     },
     "execution_count": 34,
     "metadata": {},
     "output_type": "execute_result"
    }
   ],
   "source": [
    "model.fit(train_reviews, train_labels, epochs=10, shuffle = True)\n"
   ]
  },
  {
   "cell_type": "code",
   "execution_count": 35,
   "metadata": {},
   "outputs": [],
   "source": [
    "from tensorflow.keras.preprocessing.text import Tokenizer"
   ]
  },
  {
   "cell_type": "code",
   "execution_count": 36,
   "metadata": {},
   "outputs": [],
   "source": [
    "tokenizer = Tokenizer(num_words = vocab_size, oov_token='<OOV>')\n",
    "tokenizer.word_index = word_index"
   ]
  },
  {
   "cell_type": "code",
   "execution_count": 37,
   "metadata": {},
   "outputs": [],
   "source": [
    "sentences = [\n",
    "     'hi'\n",
    "    \n",
    " ]\n",
    "sequences = tokenizer.texts_to_sequences(sentences)\n",
    "padded = pad_sequences(sequences, padding='post', maxlen = review_len -1)"
   ]
  },
  {
   "cell_type": "code",
   "execution_count": 38,
   "metadata": {},
   "outputs": [
    {
     "data": {
      "text/plain": [
       "array([[0.28888386, 0.7111162 ]], dtype=float32)"
      ]
     },
     "execution_count": 38,
     "metadata": {},
     "output_type": "execute_result"
    }
   ],
   "source": [
    "index = 0\n",
    "sample = padded[index].reshape(1, len(padded[index]))\n",
    "model.predict(sample)"
   ]
  },
  {
   "cell_type": "code",
   "execution_count": 39,
   "metadata": {},
   "outputs": [],
   "source": [
    "expected = np.asarray([[0, 1]])"
   ]
  },
  {
   "cell_type": "code",
   "execution_count": 40,
   "metadata": {},
   "outputs": [
    {
     "name": "stdout",
     "output_type": "stream",
     "text": [
      "1/1 [==============================] - 0s 490ms/step - loss: 0.4931 - accuracy: 1.0000\n"
     ]
    },
    {
     "data": {
      "text/plain": [
       "<keras.callbacks.History at 0x1a288359310>"
      ]
     },
     "execution_count": 40,
     "metadata": {},
     "output_type": "execute_result"
    }
   ],
   "source": [
    "model.fit(padded, expected, epochs=1)"
   ]
  },
  {
   "cell_type": "code",
   "execution_count": 41,
   "metadata": {},
   "outputs": [],
   "source": [
    "model.save('nlp.h5')"
   ]
  }
 ],
 "metadata": {
  "kernelspec": {
   "display_name": "Python 3.9.10 64-bit",
   "language": "python",
   "name": "python3"
  },
  "language_info": {
   "codemirror_mode": {
    "name": "ipython",
    "version": 3
   },
   "file_extension": ".py",
   "mimetype": "text/x-python",
   "name": "python",
   "nbconvert_exporter": "python",
   "pygments_lexer": "ipython3",
   "version": "3.9.10"
  },
  "orig_nbformat": 4,
  "vscode": {
   "interpreter": {
    "hash": "45d213fce5b2b99a037768f57daecc6389cba85061f09ae0e15dfa1cc3805fe6"
   }
  }
 },
 "nbformat": 4,
 "nbformat_minor": 2
}
